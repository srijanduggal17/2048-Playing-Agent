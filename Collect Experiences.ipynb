{
 "cells": [
  {
   "cell_type": "code",
   "execution_count": 1,
   "metadata": {},
   "outputs": [],
   "source": [
    "import numpy as np\n",
    "import time\n",
    "import random\n",
    "import pandas as pd\n",
    "import pickle\n",
    "\n",
    "from Game import Game\n",
    "from Agent import Agent"
   ]
  },
  {
   "cell_type": "code",
   "execution_count": 2,
   "metadata": {},
   "outputs": [
    {
     "name": "stdout",
     "output_type": "stream",
     "text": [
      "1 episodes complete\n",
      "2 episodes complete\n",
      "3 episodes complete\n",
      "4 episodes complete\n",
      "5 episodes complete\n",
      "6 episodes complete\n",
      "7 episodes complete\n",
      "8 episodes complete\n",
      "9 episodes complete\n",
      "10 episodes complete\n",
      "11 episodes complete\n",
      "12 episodes complete\n",
      "13 episodes complete\n",
      "14 episodes complete\n",
      "15 episodes complete\n",
      "16 episodes complete\n",
      "17 episodes complete\n",
      "18 episodes complete\n",
      "19 episodes complete\n",
      "20 episodes complete\n",
      "21 episodes complete\n",
      "22 episodes complete\n",
      "23 episodes complete\n",
      "24 episodes complete\n",
      "25 episodes complete\n",
      "26 episodes complete\n",
      "27 episodes complete\n",
      "28 episodes complete\n",
      "29 episodes complete\n",
      "30 episodes complete\n",
      "31 episodes complete\n",
      "32 episodes complete\n",
      "33 episodes complete\n",
      "34 episodes complete\n",
      "35 episodes complete\n",
      "36 episodes complete\n",
      "37 episodes complete\n",
      "38 episodes complete\n",
      "39 episodes complete\n",
      "40 episodes complete\n",
      "41 episodes complete\n",
      "42 episodes complete\n",
      "43 episodes complete\n",
      "44 episodes complete\n",
      "45 episodes complete\n",
      "46 episodes complete\n",
      "47 episodes complete\n",
      "48 episodes complete\n",
      "49 episodes complete\n",
      "50 episodes complete\n",
      "51 episodes complete\n",
      "52 episodes complete\n",
      "53 episodes complete\n",
      "54 episodes complete\n",
      "55 episodes complete\n",
      "56 episodes complete\n",
      "57 episodes complete\n",
      "58 episodes complete\n",
      "59 episodes complete\n",
      "60 episodes complete\n",
      "61 episodes complete\n",
      "62 episodes complete\n",
      "63 episodes complete\n",
      "64 episodes complete\n",
      "65 episodes complete\n",
      "66 episodes complete\n",
      "67 episodes complete\n",
      "68 episodes complete\n",
      "69 episodes complete\n",
      "70 episodes complete\n",
      "71 episodes complete\n",
      "72 episodes complete\n",
      "73 episodes complete\n",
      "74 episodes complete\n",
      "75 episodes complete\n",
      "76 episodes complete\n",
      "77 episodes complete\n",
      "78 episodes complete\n",
      "79 episodes complete\n",
      "80 episodes complete\n",
      "81 episodes complete\n",
      "82 episodes complete\n",
      "83 episodes complete\n",
      "84 episodes complete\n",
      "85 episodes complete\n",
      "86 episodes complete\n",
      "87 episodes complete\n",
      "88 episodes complete\n",
      "89 episodes complete\n",
      "90 episodes complete\n",
      "91 episodes complete\n",
      "92 episodes complete\n",
      "93 episodes complete\n",
      "94 episodes complete\n",
      "95 episodes complete\n",
      "96 episodes complete\n",
      "97 episodes complete\n",
      "98 episodes complete\n",
      "99 episodes complete\n",
      "100 episodes complete\n",
      "101 episodes complete\n",
      "102 episodes complete\n",
      "103 episodes complete\n",
      "104 episodes complete\n",
      "105 episodes complete\n",
      "106 episodes complete\n",
      "107 episodes complete\n",
      "108 episodes complete\n",
      "109 episodes complete\n",
      "110 episodes complete\n",
      "111 episodes complete\n",
      "112 episodes complete\n",
      "113 episodes complete\n",
      "114 episodes complete\n",
      "115 episodes complete\n",
      "116 episodes complete\n",
      "117 episodes complete\n",
      "118 episodes complete\n",
      "119 episodes complete\n",
      "120 episodes complete\n",
      "121 episodes complete\n",
      "122 episodes complete\n",
      "123 episodes complete\n",
      "124 episodes complete\n",
      "125 episodes complete\n",
      "126 episodes complete\n",
      "127 episodes complete\n",
      "128 episodes complete\n",
      "129 episodes complete\n",
      "130 episodes complete\n",
      "131 episodes complete\n",
      "132 episodes complete\n",
      "133 episodes complete\n",
      "134 episodes complete\n",
      "135 episodes complete\n",
      "136 episodes complete\n",
      "137 episodes complete\n",
      "138 episodes complete\n",
      "139 episodes complete\n",
      "140 episodes complete\n",
      "141 episodes complete\n",
      "142 episodes complete\n",
      "143 episodes complete\n",
      "144 episodes complete\n",
      "145 episodes complete\n",
      "146 episodes complete\n",
      "147 episodes complete\n",
      "148 episodes complete\n",
      "149 episodes complete\n",
      "done\n"
     ]
    }
   ],
   "source": [
    "agent = Agent(sleep_time=.1, headless=True, printmode=False)\n",
    "experiences = agent.collect_experience(150)\n",
    "print('done')"
   ]
  },
  {
   "cell_type": "code",
   "execution_count": 3,
   "metadata": {},
   "outputs": [
    {
     "name": "stdout",
     "output_type": "stream",
     "text": [
      "dict_keys([1, 2, 3, 4, 5, 6, 7, 8, 9, 10, 11, 12, 13, 14, 15, 16, 17, 18, 19, 20, 21, 22, 23, 24, 25, 26, 27, 28, 29, 30, 31, 32, 33, 34, 35, 36, 37, 38, 39, 40, 41, 42, 43, 44, 45, 46, 47, 48, 49, 50, 51, 52, 53, 54, 55, 56, 57, 58, 59, 60, 61, 62, 63, 64, 65, 66, 67, 68, 69, 70, 71, 72, 73, 74, 75, 76, 77, 78, 79, 80, 81, 82, 83, 84, 85, 86, 87, 88, 89, 90, 91, 92, 93, 94, 95, 96, 97, 98, 99, 100, 101, 102, 103, 104, 105, 106, 107, 108, 109, 110, 111, 112, 113, 114, 115, 116, 117, 118, 119, 120, 121, 122, 123, 124, 125, 126, 127, 128, 129, 130, 131, 132, 133, 134, 135, 136, 137, 138, 139, 140, 141, 142, 143, 144, 145, 146, 147, 148, 149, 150])\n"
     ]
    }
   ],
   "source": [
    "print(experiences.keys())"
   ]
  },
  {
   "cell_type": "code",
   "execution_count": 4,
   "metadata": {},
   "outputs": [],
   "source": [
    "pickle.dump(experiences, open('experiences3.p', 'wb'))"
   ]
  },
  {
   "cell_type": "code",
   "execution_count": 5,
   "metadata": {},
   "outputs": [],
   "source": [
    "from_file = pickle.load(open('experiences3.p', 'rb'))"
   ]
  },
  {
   "cell_type": "code",
   "execution_count": 6,
   "metadata": {},
   "outputs": [
    {
     "name": "stdout",
     "output_type": "stream",
     "text": [
      "dict_keys([1, 2, 3, 4, 5, 6, 7, 8, 9, 10, 11, 12, 13, 14, 15, 16, 17, 18, 19, 20, 21, 22, 23, 24, 25, 26, 27, 28, 29, 30, 31, 32, 33, 34, 35, 36, 37, 38, 39, 40, 41, 42, 43, 44, 45, 46, 47, 48, 49, 50, 51, 52, 53, 54, 55, 56, 57, 58, 59, 60, 61, 62, 63, 64, 65, 66, 67, 68, 69, 70, 71, 72, 73, 74, 75, 76, 77, 78, 79, 80, 81, 82, 83, 84, 85, 86, 87, 88, 89, 90, 91, 92, 93, 94, 95, 96, 97, 98, 99, 100, 101, 102, 103, 104, 105, 106, 107, 108, 109, 110, 111, 112, 113, 114, 115, 116, 117, 118, 119, 120, 121, 122, 123, 124, 125, 126, 127, 128, 129, 130, 131, 132, 133, 134, 135, 136, 137, 138, 139, 140, 141, 142, 143, 144, 145, 146, 147, 148, 149, 150])\n"
     ]
    }
   ],
   "source": [
    "print(from_file.keys())"
   ]
  },
  {
   "cell_type": "code",
   "execution_count": null,
   "metadata": {},
   "outputs": [],
   "source": []
  }
 ],
 "metadata": {
  "kernelspec": {
   "display_name": "Python 3",
   "language": "python",
   "name": "python3"
  },
  "language_info": {
   "codemirror_mode": {
    "name": "ipython",
    "version": 3
   },
   "file_extension": ".py",
   "mimetype": "text/x-python",
   "name": "python",
   "nbconvert_exporter": "python",
   "pygments_lexer": "ipython3",
   "version": "3.8.1"
  }
 },
 "nbformat": 4,
 "nbformat_minor": 4
}
