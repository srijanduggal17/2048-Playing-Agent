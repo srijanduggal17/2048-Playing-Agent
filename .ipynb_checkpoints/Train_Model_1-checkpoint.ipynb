{
 "cells": [
  {
   "cell_type": "code",
   "execution_count": 1,
   "metadata": {
    "colab": {},
    "colab_type": "code",
    "id": "w2-eNcJShX6p"
   },
   "outputs": [],
   "source": [
    "import pickle\n",
    "import torch\n",
    "import random\n",
    "import torch.nn as nn\n",
    "import numpy as np\n",
    "from collections import namedtuple\n",
    "import matplotlib\n",
    "import matplotlib.pyplot as plt\n",
    "import torch.optim as optim\n",
    "import torch.nn.functional as F"
   ]
  },
  {
   "cell_type": "code",
   "execution_count": 2,
   "metadata": {
    "colab": {},
    "colab_type": "code",
    "id": "zA5I2tNzhX6z"
   },
   "outputs": [],
   "source": [
    "# set up matplotlib\n",
    "is_ipython = 'inline' in matplotlib.get_backend()\n",
    "if is_ipython:\n",
    "    from IPython import display\n",
    "\n",
    "plt.ion()\n",
    "\n",
    "device = torch.device(\"cuda\" if torch.cuda.is_available() else \"cpu\")\n",
    "\n",
    "# initialize numpy random seed\n",
    "np.random.seed(57)\n",
    "random_gen = np.random.default_rng()"
   ]
  },
  {
   "cell_type": "code",
   "execution_count": 3,
   "metadata": {
    "colab": {},
    "colab_type": "code",
    "id": "j9iudsyKhX68"
   },
   "outputs": [],
   "source": [
    "'''\n",
    "    Takes a state or batch of states and converts\n",
    "    them into a pytorch tensor format. Shapes should\n",
    "    be (batch_size x 1 x 4 x 4) or (1 x 1 x 4 x 4)\n",
    "'''\n",
    "def process_state(state):\n",
    "    if state is not None:\n",
    "        state = torch.tensor(state, dtype=torch.float)\n",
    "        state = state.unsqueeze(0).unsqueeze(0).to(device)\n",
    "    return state\n",
    "  \n",
    "def process_action(action):\n",
    "    if action == 'Left':\n",
    "        out = 0\n",
    "    elif action == 'Right':\n",
    "        out = 1\n",
    "    elif action == 'Up':\n",
    "        out = 2\n",
    "    elif action == 'Down':\n",
    "        out = 3\n",
    "    \n",
    "    return torch.tensor([[out]], device=device, dtype=torch.long)\n",
    "\n",
    "def process_reward(reward):\n",
    "    return torch.tensor([reward], device=device, dtype=torch.long)\n"
   ]
  },
  {
   "cell_type": "code",
   "execution_count": 4,
   "metadata": {
    "colab": {},
    "colab_type": "code",
    "id": "PgWzabeihX7E"
   },
   "outputs": [],
   "source": [
    "# Set up transition and ReplayMemory classes\n",
    "Transition = namedtuple('Transition',\n",
    "                        ('state', 'action', 'next_state', 'reward'))\n",
    "\n",
    "\n",
    "class ReplayMemory(object):\n",
    "    def __init__(self, capacity):\n",
    "        self.capacity = capacity\n",
    "        self.memory = []\n",
    "        self.position = 0\n",
    "\n",
    "    def push(self, *args):\n",
    "        \"\"\"Saves a transition.\"\"\"\n",
    "        if len(self.memory) < self.capacity:\n",
    "            self.memory.append(None)\n",
    "        self.memory[self.position] = Transition(*args)\n",
    "        self.position = (self.position + 1) % self.capacity\n",
    "\n",
    "    def sample(self, batch_size):\n",
    "        # Gets a minibatch of tuples\n",
    "        return random.sample(self.memory, batch_size)\n",
    "\n",
    "    def __len__(self):\n",
    "        return len(self.memory)"
   ]
  },
  {
   "cell_type": "code",
   "execution_count": 5,
   "metadata": {
    "colab": {
     "base_uri": "https://localhost:8080/",
     "height": 35
    },
    "colab_type": "code",
    "id": "0wbvl1YVhX7R",
    "outputId": "1c48fcf7-2358-4ec3-872f-5774c9506b8b"
   },
   "outputs": [
    {
     "name": "stdout",
     "output_type": "stream",
     "text": [
      "Dataset has 60381 experiences\n"
     ]
    }
   ],
   "source": [
    "# Load dataset and shuffle\n",
    "raw_data = pickle.load(open('dataset.p', 'rb'))\n",
    "\n",
    "dataset = []\n",
    "for episode in raw_data:\n",
    "    for exp in raw_data[episode]['experiences']:\n",
    "        dataset.append(exp)\n",
    "\n",
    "random_gen.shuffle(dataset)\n",
    "print('Dataset has {} experiences'.format(len(dataset)))"
   ]
  },
  {
   "cell_type": "code",
   "execution_count": 6,
   "metadata": {
    "colab": {
     "base_uri": "https://localhost:8080/",
     "height": 297
    },
    "colab_type": "code",
    "id": "WX5E8ylehX7U",
    "outputId": "f29befd3-1d4a-4254-d360-df3739a597ff"
   },
   "outputs": [
    {
     "name": "stderr",
     "output_type": "stream",
     "text": [
      "<ipython-input-3-e93d019ebf59>:8: UserWarning: To copy construct from a tensor, it is recommended to use sourceTensor.clone().detach() or sourceTensor.clone().detach().requires_grad_(True), rather than torch.tensor(sourceTensor).\n",
      "  state = torch.tensor(state, dtype=torch.float)\n"
     ]
    },
    {
     "name": "stdout",
     "output_type": "stream",
     "text": [
      "[Transition(state=tensor([[[[ 32.,  32.,   2.,   0.],\n",
      "          [  4., 128.,   4.,   2.],\n",
      "          [  8.,   2.,   8.,   0.],\n",
      "          [  2.,   4.,   2.,   2.]]]]), action=tensor([[2]]), next_state=tensor([[[[[[ 32.,  32.,   2.,   0.],\n",
      "            [  4., 128.,   4.,   2.],\n",
      "            [  8.,   2.,   8.,   0.],\n",
      "            [  2.,   4.,   2.,   2.]]]]]]), reward=tensor([4])), Transition(state=tensor([[[[ 0.,  0.,  2.,  0.],\n",
      "          [ 2.,  0., 16.,  0.],\n",
      "          [ 2.,  4.,  4.,  8.],\n",
      "          [64., 16.,  2.,  8.]]]]), action=tensor([[1]]), next_state=tensor([[[[[[ 0.,  0.,  2.,  0.],\n",
      "            [ 2.,  0., 16.,  0.],\n",
      "            [ 2.,  4.,  4.,  8.],\n",
      "            [64., 16.,  2.,  8.]]]]]]), reward=tensor([8]))]\n"
     ]
    }
   ],
   "source": [
    "# Push entire dataset into ReplayMemory\n",
    "memory = ReplayMemory(10000)\n",
    "\n",
    "for exp in dataset[:10000]:\n",
    "    state, action, nextstate, reward = exp\n",
    "    state = process_state(state)\n",
    "    nextstate = process_state(state)\n",
    "    action = process_action(action)\n",
    "    reward = process_reward(reward)\n",
    "    memory.push(state, action, nextstate, reward)\n",
    "\n",
    "# Test sample method\n",
    "print(memory.sample(2))"
   ]
  },
  {
   "cell_type": "code",
   "execution_count": 7,
   "metadata": {
    "colab": {
     "base_uri": "https://localhost:8080/",
     "height": 35
    },
    "colab_type": "code",
    "id": "TEkHMvJSn4Qq",
    "outputId": "2e6b8734-e598-4ded-9197-f0a880a3a5ac"
   },
   "outputs": [
    {
     "name": "stdout",
     "output_type": "stream",
     "text": [
      "torch.Size([16, 1, 4, 4])\n"
     ]
    }
   ],
   "source": [
    "transitions = memory.sample(16)\n",
    "batch = Transition(*zip(*transitions))\n",
    "non_final_next_states = torch.cat([s.squeeze(1).squeeze(1) for s in batch.next_state\n",
    "                                                if s is not None])\n",
    "print(non_final_next_states.shape)"
   ]
  },
  {
   "cell_type": "code",
   "execution_count": 8,
   "metadata": {
    "colab": {},
    "colab_type": "code",
    "id": "0uHWhsCEhX7b"
   },
   "outputs": [],
   "source": [
    "# Define network\n",
    "\n",
    "class DQN(nn.Module):\n",
    "    def __init__(self, h, w, outputs):\n",
    "        super(DQN, self).__init__()\n",
    "        self.conv1 = nn.Conv2d(1, 8, kernel_size=4, padding=1, stride=1)\n",
    "        self.bn1 = nn.BatchNorm2d(8)\n",
    "        self.conv2 = nn.Conv2d(8, 16, kernel_size=2, padding=1, stride=1)\n",
    "        self.bn2 = nn.BatchNorm2d(16)\n",
    "\n",
    "        # Number of Linear input connections depends on output of conv2d layers\n",
    "        # and therefore the input image size, so compute it.\n",
    "        def conv2d_size_out(size, kernel_size, padding=1, stride = 1):\n",
    "            return (size  +2*padding - (kernel_size - 1) - 1) // stride  + 1\n",
    "        \n",
    "        convw = conv2d_size_out(conv2d_size_out(w, 4), 2)\n",
    "        convh = conv2d_size_out(conv2d_size_out(h, 4), 2)\n",
    "        linear_input_size = convw * convh * 16\n",
    "        self.head = nn.Linear(linear_input_size, outputs)\n",
    "\n",
    "    # Called with either one element to determine next action, or a batch\n",
    "    # during optimization. Returns tensor([[left0exp,right0exp]...]).\n",
    "    def forward(self, x):\n",
    "        x = F.relu(self.bn1(self.conv1(x)))\n",
    "        x = F.relu(self.bn2(self.conv2(x)))\n",
    "        return self.head(x.view(x.size(0), -1))"
   ]
  },
  {
   "cell_type": "code",
   "execution_count": 9,
   "metadata": {
    "colab": {},
    "colab_type": "code",
    "id": "T_W0ZuSAhX7k"
   },
   "outputs": [],
   "source": [
    "BATCH_SIZE = 128\n",
    "GAMMA = 0.999\n",
    "TARGET_UPDATE = 20\n",
    "\n",
    "board_width = 4\n",
    "board_height = 4\n",
    "n_actions = 4\n",
    "\n",
    "policy_net = DQN(board_height, board_width, n_actions).to(device)\n",
    "target_net = DQN(board_height, board_width, n_actions).to(device)\n",
    "target_net.load_state_dict(policy_net.state_dict())\n",
    "target_net.eval()\n",
    "\n",
    "optimizer = optim.RMSprop(policy_net.parameters())\n",
    "\n",
    "steps_done = 0\n",
    "\n",
    "\n",
    "def select_action(state):\n",
    "    global steps_done\n",
    "    steps_done += 1\n",
    "    with torch.no_grad():\n",
    "        # t.max(1) will return largest column value of each row.\n",
    "        # second column on max result is index of where max element was\n",
    "        # found, so we pick action with the larger expected reward.\n",
    "        return policy_net(state).max(1)[1].view(1, 1)\n",
    "\n",
    "episode_durations = []\n",
    "\n",
    "def plot_durations():\n",
    "    plt.figure(2)\n",
    "    plt.clf()\n",
    "    durations_t = torch.tensor(episode_durations, dtype=torch.float)\n",
    "    plt.title('Training...')\n",
    "    plt.xlabel('Episode')\n",
    "    plt.ylabel('Duration')\n",
    "    plt.plot(durations_t.numpy())\n",
    "    # Take 100 episode averages and plot them too\n",
    "    if len(durations_t) >= 100:\n",
    "        means = durations_t.unfold(0, 100, 1).mean(1).view(-1)\n",
    "        means = torch.cat((torch.zeros(99), means))\n",
    "        plt.plot(means.numpy())\n",
    "\n",
    "    plt.pause(0.001)  # pause a bit so that plots are updated\n",
    "    if is_ipython:\n",
    "        display.clear_output(wait=True)\n",
    "        display.display(plt.gcf())"
   ]
  },
  {
   "cell_type": "code",
   "execution_count": 10,
   "metadata": {
    "colab": {},
    "colab_type": "code",
    "id": "Y9iokD0WhX7o"
   },
   "outputs": [],
   "source": [
    "def optimize_model():\n",
    "    if len(memory) < BATCH_SIZE:\n",
    "        return\n",
    "    transitions = memory.sample(BATCH_SIZE)\n",
    "    # Transpose the batch (see https://stackoverflow.com/a/19343/3343043 for\n",
    "    # detailed explanation). This converts batch-array of Transitions\n",
    "    # to Transition of batch-arrays.\n",
    "    batch = Transition(*zip(*transitions))\n",
    "\n",
    "    # Compute a mask of non-final states and concatenate the batch elements\n",
    "    # (a final state would've been the one after which simulation ended)\n",
    "    non_final_mask = torch.tensor(tuple(map(lambda s: s is not None,\n",
    "                                          batch.next_state)), device=device, dtype=torch.bool)\n",
    "    non_final_next_states = torch.cat([s.squeeze(1).squeeze(1) for s in batch.next_state\n",
    "                                                if s is not None])\n",
    "    state_batch = torch.cat(batch.state)\n",
    "    action_batch = torch.cat(batch.action)\n",
    "    reward_batch = torch.cat(batch.reward)\n",
    "\n",
    "    # Compute Q(s_t, a) - the model computes Q(s_t), then we select the\n",
    "    # columns of actions taken. These are the actions which would've been taken\n",
    "    # for each batch state according to policy_net\n",
    "    state_action_values = policy_net(state_batch).gather(1, action_batch)\n",
    "\n",
    "    # Compute V(s_{t+1}) for all next states.\n",
    "    # Expected values of actions for non_final_next_states are computed based\n",
    "    # on the \"older\" target_net; selecting their best reward with max(1)[0].\n",
    "    # This is merged based on the mask, such that we'll have either the expected\n",
    "    # state value or 0 in case the state was final.\n",
    "    next_state_values = torch.zeros(BATCH_SIZE, device=device)\n",
    "    next_state_values[non_final_mask] = target_net(non_final_next_states).max(1)[0].detach()\n",
    "    # Compute the expected Q values\n",
    "    expected_state_action_values = (next_state_values * GAMMA) + reward_batch\n",
    "\n",
    "    # Compute Huber loss\n",
    "    loss = F.smooth_l1_loss(state_action_values, expected_state_action_values.unsqueeze(1))\n",
    "    print(loss)\n",
    "    \n",
    "    # Optimize the model\n",
    "    optimizer.zero_grad()\n",
    "    loss.backward()\n",
    "    for param in policy_net.parameters():\n",
    "        param.grad.data.clamp_(-1, 1)\n",
    "    optimizer.step()"
   ]
  },
  {
   "cell_type": "code",
   "execution_count": 11,
   "metadata": {
    "colab": {
     "base_uri": "https://localhost:8080/",
     "height": 1000
    },
    "colab_type": "code",
    "id": "tRobvdk8hX7t",
    "outputId": "19622b96-11ed-471e-c7ad-982e536b62e6"
   },
   "outputs": [
    {
     "name": "stdout",
     "output_type": "stream",
     "text": [
      "tensor(12.3720, grad_fn=<SmoothL1LossBackward>)\n",
      "Updating Target Network\n",
      "tensor(15.2468, grad_fn=<SmoothL1LossBackward>)\n",
      "tensor(8.8376, grad_fn=<SmoothL1LossBackward>)\n",
      "tensor(12.4419, grad_fn=<SmoothL1LossBackward>)\n",
      "tensor(7.7604, grad_fn=<SmoothL1LossBackward>)\n",
      "tensor(7.5426, grad_fn=<SmoothL1LossBackward>)\n",
      "tensor(7.6105, grad_fn=<SmoothL1LossBackward>)\n",
      "tensor(7.6574, grad_fn=<SmoothL1LossBackward>)\n",
      "tensor(8.5910, grad_fn=<SmoothL1LossBackward>)\n",
      "tensor(5.2145, grad_fn=<SmoothL1LossBackward>)\n",
      "tensor(9.2784, grad_fn=<SmoothL1LossBackward>)\n",
      "tensor(6.2149, grad_fn=<SmoothL1LossBackward>)\n",
      "tensor(7.0058, grad_fn=<SmoothL1LossBackward>)\n",
      "tensor(9.3782, grad_fn=<SmoothL1LossBackward>)\n",
      "tensor(7.0541, grad_fn=<SmoothL1LossBackward>)\n",
      "tensor(8.4104, grad_fn=<SmoothL1LossBackward>)\n",
      "tensor(8.4153, grad_fn=<SmoothL1LossBackward>)\n",
      "tensor(12.9083, grad_fn=<SmoothL1LossBackward>)\n",
      "tensor(7.7156, grad_fn=<SmoothL1LossBackward>)\n",
      "tensor(8.4570, grad_fn=<SmoothL1LossBackward>)\n",
      "tensor(6.7435, grad_fn=<SmoothL1LossBackward>)\n",
      "Updating Target Network\n",
      "tensor(19.7550, grad_fn=<SmoothL1LossBackward>)\n",
      "tensor(7.3058, grad_fn=<SmoothL1LossBackward>)\n",
      "tensor(11.3068, grad_fn=<SmoothL1LossBackward>)\n",
      "tensor(12.7989, grad_fn=<SmoothL1LossBackward>)\n",
      "tensor(8.7221, grad_fn=<SmoothL1LossBackward>)\n",
      "tensor(8.1688, grad_fn=<SmoothL1LossBackward>)\n",
      "tensor(7.3207, grad_fn=<SmoothL1LossBackward>)\n",
      "tensor(7.2343, grad_fn=<SmoothL1LossBackward>)\n",
      "tensor(6.4679, grad_fn=<SmoothL1LossBackward>)\n",
      "tensor(8.5066, grad_fn=<SmoothL1LossBackward>)\n",
      "tensor(10.2298, grad_fn=<SmoothL1LossBackward>)\n",
      "tensor(8.9806, grad_fn=<SmoothL1LossBackward>)\n",
      "tensor(6.2639, grad_fn=<SmoothL1LossBackward>)\n",
      "tensor(12.4619, grad_fn=<SmoothL1LossBackward>)\n",
      "tensor(8.2433, grad_fn=<SmoothL1LossBackward>)\n",
      "tensor(8.8031, grad_fn=<SmoothL1LossBackward>)\n",
      "tensor(7.8214, grad_fn=<SmoothL1LossBackward>)\n",
      "tensor(7.0426, grad_fn=<SmoothL1LossBackward>)\n",
      "tensor(9.8156, grad_fn=<SmoothL1LossBackward>)\n",
      "tensor(9.1994, grad_fn=<SmoothL1LossBackward>)\n",
      "Updating Target Network\n",
      "tensor(8.3345, grad_fn=<SmoothL1LossBackward>)\n",
      "tensor(8.3800, grad_fn=<SmoothL1LossBackward>)\n",
      "tensor(8.6117, grad_fn=<SmoothL1LossBackward>)\n",
      "tensor(10.1383, grad_fn=<SmoothL1LossBackward>)\n",
      "tensor(8.5924, grad_fn=<SmoothL1LossBackward>)\n",
      "tensor(6.2411, grad_fn=<SmoothL1LossBackward>)\n",
      "tensor(7.6971, grad_fn=<SmoothL1LossBackward>)\n",
      "tensor(11.2399, grad_fn=<SmoothL1LossBackward>)\n",
      "tensor(7.1876, grad_fn=<SmoothL1LossBackward>)\n",
      "tensor(8.9366, grad_fn=<SmoothL1LossBackward>)\n",
      "tensor(10.2726, grad_fn=<SmoothL1LossBackward>)\n",
      "tensor(8.2297, grad_fn=<SmoothL1LossBackward>)\n",
      "tensor(10.4968, grad_fn=<SmoothL1LossBackward>)\n",
      "tensor(9.4796, grad_fn=<SmoothL1LossBackward>)\n",
      "tensor(7.0327, grad_fn=<SmoothL1LossBackward>)\n",
      "tensor(6.0181, grad_fn=<SmoothL1LossBackward>)\n",
      "tensor(6.9545, grad_fn=<SmoothL1LossBackward>)\n",
      "tensor(7.1348, grad_fn=<SmoothL1LossBackward>)\n",
      "tensor(7.0613, grad_fn=<SmoothL1LossBackward>)\n",
      "tensor(8.8095, grad_fn=<SmoothL1LossBackward>)\n",
      "Updating Target Network\n",
      "tensor(8.3284, grad_fn=<SmoothL1LossBackward>)\n",
      "tensor(6.2562, grad_fn=<SmoothL1LossBackward>)\n",
      "tensor(8.1986, grad_fn=<SmoothL1LossBackward>)\n",
      "tensor(9.5174, grad_fn=<SmoothL1LossBackward>)\n",
      "tensor(9.4213, grad_fn=<SmoothL1LossBackward>)\n",
      "tensor(8.4566, grad_fn=<SmoothL1LossBackward>)\n",
      "tensor(8.8340, grad_fn=<SmoothL1LossBackward>)\n",
      "tensor(6.8075, grad_fn=<SmoothL1LossBackward>)\n",
      "tensor(7.1536, grad_fn=<SmoothL1LossBackward>)\n",
      "tensor(10.6128, grad_fn=<SmoothL1LossBackward>)\n",
      "tensor(5.8053, grad_fn=<SmoothL1LossBackward>)\n",
      "tensor(7.4455, grad_fn=<SmoothL1LossBackward>)\n",
      "tensor(9.0026, grad_fn=<SmoothL1LossBackward>)\n",
      "tensor(9.0438, grad_fn=<SmoothL1LossBackward>)\n",
      "tensor(9.5998, grad_fn=<SmoothL1LossBackward>)\n",
      "tensor(6.6244, grad_fn=<SmoothL1LossBackward>)\n",
      "tensor(7.1490, grad_fn=<SmoothL1LossBackward>)\n",
      "Complete\n"
     ]
    }
   ],
   "source": [
    "train_iterations = 78\n",
    "for i_train in range(train_iterations):\n",
    "    # Update policy network\n",
    "    optimize_model()\n",
    "    \n",
    "    # Update the target network, copying all weights and biases in DQN\n",
    "    if i_train % TARGET_UPDATE == 0:\n",
    "        print('Updating Target Network')\n",
    "        target_net.load_state_dict(policy_net.state_dict())\n",
    "\n",
    "print('Complete')"
   ]
  },
  {
   "cell_type": "code",
   "execution_count": 12,
   "metadata": {},
   "outputs": [],
   "source": [
    "torch.save(policy_net.state_dict(), 'trained_model.pt')"
   ]
  },
  {
   "cell_type": "code",
   "execution_count": 13,
   "metadata": {},
   "outputs": [
    {
     "data": {
      "text/plain": [
       "DQN(\n",
       "  (conv1): Conv2d(1, 8, kernel_size=(4, 4), stride=(1, 1), padding=(1, 1))\n",
       "  (bn1): BatchNorm2d(8, eps=1e-05, momentum=0.1, affine=True, track_running_stats=True)\n",
       "  (conv2): Conv2d(8, 16, kernel_size=(2, 2), stride=(1, 1), padding=(1, 1))\n",
       "  (bn2): BatchNorm2d(16, eps=1e-05, momentum=0.1, affine=True, track_running_stats=True)\n",
       "  (head): Linear(in_features=256, out_features=4, bias=True)\n",
       ")"
      ]
     },
     "execution_count": 13,
     "metadata": {},
     "output_type": "execute_result"
    }
   ],
   "source": [
    "inf_model = DQN(board_height, board_width, n_actions).to(device)\n",
    "inf_model.load_state_dict(torch.load('trained_model.pt'))\n",
    "inf_model.eval()"
   ]
  },
  {
   "cell_type": "code",
   "execution_count": 14,
   "metadata": {},
   "outputs": [
    {
     "name": "stdout",
     "output_type": "stream",
     "text": [
      "tensor([[18.9898, 18.7269, 18.1037, 19.7032]], grad_fn=<AddmmBackward>)\n",
      "[2 1 0 3]\n"
     ]
    }
   ],
   "source": [
    "cur_state = memory.sample(1)[0]\n",
    "model_out = inf_model(cur_state.state)\n",
    "print(model_out)\n",
    "print(np.argsort(model_out.data.numpy()[0]))\n",
    "# print(model_out\n",
    "# move = model_out.max(1)[1].numpy()[0]"
   ]
  },
  {
   "cell_type": "code",
   "execution_count": 15,
   "metadata": {},
   "outputs": [
    {
     "name": "stdout",
     "output_type": "stream",
     "text": [
      "[1 0 3]\n",
      "[0 3]\n",
      "[3]\n",
      "[]\n"
     ]
    }
   ],
   "source": [
    "ranked_actions = np.argsort(model_out.data.numpy()[0])\n",
    "chosen_action = ranked_actions[0]\n",
    "# chosen_move = move_ops[chosen_action]\n",
    "\n",
    "while True:\n",
    "    ranked_actions = ranked_actions[ranked_actions != chosen_action]\n",
    "    print(ranked_actions)\n",
    "    if len(ranked_actions) == 0:\n",
    "        continue_playing = \"Invalid\";\n",
    "        break;\n",
    "    chosen_action = ranked_actions[0]\n",
    "#     chosen_move = ranked_actions[0]"
   ]
  }
 ],
 "metadata": {
  "colab": {
   "collapsed_sections": [],
   "name": "Train Model 1.ipynb",
   "provenance": []
  },
  "kernelspec": {
   "display_name": "Python 3",
   "language": "python",
   "name": "python3"
  },
  "language_info": {
   "codemirror_mode": {
    "name": "ipython",
    "version": 3
   },
   "file_extension": ".py",
   "mimetype": "text/x-python",
   "name": "python",
   "nbconvert_exporter": "python",
   "pygments_lexer": "ipython3",
   "version": "3.8.1"
  }
 },
 "nbformat": 4,
 "nbformat_minor": 4
}
