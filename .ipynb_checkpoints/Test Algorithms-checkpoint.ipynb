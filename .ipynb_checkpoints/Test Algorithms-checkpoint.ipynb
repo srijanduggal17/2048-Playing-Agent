{
 "cells": [
  {
   "cell_type": "code",
   "execution_count": 1,
   "metadata": {},
   "outputs": [],
   "source": [
    "import numpy as np\n",
    "import time\n",
    "import random\n",
    "import pandas as pd\n",
    "\n",
    "from Game import Game\n",
    "from Agent import Agent"
   ]
  },
  {
   "cell_type": "code",
   "execution_count": 2,
   "metadata": {},
   "outputs": [],
   "source": [
    "# agent1 = Agent(sleep_time=.03, headless=False)"
   ]
  },
  {
   "cell_type": "code",
   "execution_count": 3,
   "metadata": {},
   "outputs": [],
   "source": [
    "# pl_random_trials, pl_random_stats = agent1.evaluate('random', num_games=15)"
   ]
  },
  {
   "cell_type": "code",
   "execution_count": 4,
   "metadata": {},
   "outputs": [],
   "source": [
    "# print(pl_random_stats)"
   ]
  },
  {
   "cell_type": "code",
   "execution_count": 5,
   "metadata": {},
   "outputs": [],
   "source": [
    "# pl_combo_trials, pl_combo_stats = agent1.evaluate('combination', num_games=15)"
   ]
  },
  {
   "cell_type": "code",
   "execution_count": 6,
   "metadata": {},
   "outputs": [],
   "source": [
    "# print(pl_combo_stats)"
   ]
  },
  {
   "cell_type": "code",
   "execution_count": 7,
   "metadata": {},
   "outputs": [],
   "source": [
    "# agent2 = Agent(sleep_time=.2, headless=False)\n",
    "# start_time = time.time()\n",
    "# done_game = agent2.play_game('bigger_combo')\n",
    "# end_time = time.time()\n",
    "# done_game.calculate_results(end_time - start_time)\n",
    "# print(done_game.results)"
   ]
  },
  {
   "cell_type": "code",
   "execution_count": 8,
   "metadata": {},
   "outputs": [],
   "source": [
    "# pl_prior_trials, pl_prior_stats = agent1.evaluate('bigger_combo', num_games=15)"
   ]
  },
  {
   "cell_type": "code",
   "execution_count": 9,
   "metadata": {},
   "outputs": [
    {
     "name": "stdout",
     "output_type": "stream",
     "text": [
      "{'num_moves': 115, 'biggest_tile': 64.0, 'sum_of_tiles': 256.0, 'game_time': 42.11784863471985}\n"
     ]
    }
   ],
   "source": [
    "agent2 = Agent(sleep_time=.2, headless=False, printmode=False)\n",
    "start_time = time.time()\n",
    "done_game = agent2.play_game('pretrained')\n",
    "end_time = time.time()\n",
    "done_game.calculate_results(end_time - start_time)\n",
    "print(done_game.results)"
   ]
  },
  {
   "cell_type": "code",
   "execution_count": 10,
   "metadata": {},
   "outputs": [],
   "source": [
    "# print(done_game.results)"
   ]
  },
  {
   "cell_type": "code",
   "execution_count": 11,
   "metadata": {},
   "outputs": [],
   "source": [
    "# pl_prior_trials, pl_prior_stats = agent1.evaluate('designed', num_games=15)"
   ]
  }
 ],
 "metadata": {
  "kernelspec": {
   "display_name": "Python 3",
   "language": "python",
   "name": "python3"
  },
  "language_info": {
   "codemirror_mode": {
    "name": "ipython",
    "version": 3
   },
   "file_extension": ".py",
   "mimetype": "text/x-python",
   "name": "python",
   "nbconvert_exporter": "python",
   "pygments_lexer": "ipython3",
   "version": "3.8.1"
  }
 },
 "nbformat": 4,
 "nbformat_minor": 4
}
