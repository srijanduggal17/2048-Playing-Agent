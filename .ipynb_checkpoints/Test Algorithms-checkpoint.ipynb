{
 "cells": [
  {
   "cell_type": "code",
   "execution_count": 1,
   "metadata": {},
   "outputs": [],
   "source": [
    "import numpy as np\n",
    "import time\n",
    "import random\n",
    "import pandas as pd\n",
    "\n",
    "from Game import Game\n",
    "from Agent import Agent"
   ]
  },
  {
   "cell_type": "code",
   "execution_count": 11,
   "metadata": {},
   "outputs": [],
   "source": [
    "# agent1 = Agent(sleep_time=.03, headless=False)"
   ]
  },
  {
   "cell_type": "code",
   "execution_count": 12,
   "metadata": {},
   "outputs": [],
   "source": [
    "# pl_random_trials, pl_random_stats = agent1.evaluate('random', num_games=15)"
   ]
  },
  {
   "cell_type": "code",
   "execution_count": 13,
   "metadata": {},
   "outputs": [],
   "source": [
    "# print(pl_random_stats)"
   ]
  },
  {
   "cell_type": "code",
   "execution_count": 14,
   "metadata": {},
   "outputs": [],
   "source": [
    "# pl_combo_trials, pl_combo_stats = agent1.evaluate('combination', num_games=15)"
   ]
  },
  {
   "cell_type": "code",
   "execution_count": 15,
   "metadata": {},
   "outputs": [],
   "source": [
    "# print(pl_combo_stats)"
   ]
  },
  {
   "cell_type": "code",
   "execution_count": 16,
   "metadata": {},
   "outputs": [],
   "source": [
    "# agent2 = Agent(sleep_time=.2, headless=False)\n",
    "# start_time = time.time()\n",
    "# done_game = agent2.play_game('bigger_combo')\n",
    "# end_time = time.time()\n",
    "# done_game.calculate_results(end_time - start_time)\n",
    "# print(done_game.results)"
   ]
  },
  {
   "cell_type": "code",
   "execution_count": 17,
   "metadata": {},
   "outputs": [],
   "source": [
    "# pl_prior_trials, pl_prior_stats = agent1.evaluate('bigger_combo', num_games=15)"
   ]
  },
  {
   "cell_type": "code",
   "execution_count": 2,
   "metadata": {},
   "outputs": [
    {
     "name": "stdout",
     "output_type": "stream",
     "text": [
      "{'num_moves': 947, 'biggest_tile': 2048.0, 'sum_of_tiles': 2090.0, 'game_time': 574.469694852829}\n"
     ]
    }
   ],
   "source": [
    "agent2 = Agent(sleep_time=.5, headless=False, printmode=False)\n",
    "start_time = time.time()\n",
    "done_game = agent2.play_game('designed')\n",
    "end_time = time.time()\n",
    "done_game.calculate_results(end_time - start_time)\n",
    "print(done_game.results)"
   ]
  },
  {
   "cell_type": "code",
   "execution_count": 3,
   "metadata": {},
   "outputs": [
    {
     "name": "stdout",
     "output_type": "stream",
     "text": [
      "{'num_moves': 1079, 'biggest_tile': 1024.0, 'sum_of_tiles': 2354.0, 'game_time': 379.53359174728394}\n"
     ]
    }
   ],
   "source": [
    "# print(done_game.results)"
   ]
  },
  {
   "cell_type": "code",
   "execution_count": 2,
   "metadata": {},
   "outputs": [],
   "source": [
    "# pl_prior_trials, pl_prior_stats = agent1.evaluate('designed', num_games=15)"
   ]
  }
 ],
 "metadata": {
  "kernelspec": {
   "display_name": "Python 3",
   "language": "python",
   "name": "python3"
  },
  "language_info": {
   "codemirror_mode": {
    "name": "ipython",
    "version": 3
   },
   "file_extension": ".py",
   "mimetype": "text/x-python",
   "name": "python",
   "nbconvert_exporter": "python",
   "pygments_lexer": "ipython3",
   "version": "3.8.1"
  }
 },
 "nbformat": 4,
 "nbformat_minor": 4
}
