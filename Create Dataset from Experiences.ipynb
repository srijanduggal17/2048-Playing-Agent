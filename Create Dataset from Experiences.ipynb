{
 "cells": [
  {
   "cell_type": "code",
   "execution_count": 1,
   "metadata": {},
   "outputs": [],
   "source": [
    "import pickle\n",
    "from functools import reduce\n",
    "import numpy as np\n",
    "import matplotlib.pyplot as plt"
   ]
  },
  {
   "cell_type": "code",
   "execution_count": 2,
   "metadata": {},
   "outputs": [],
   "source": [
    "exp1 = pickle.load(open('experiences.p', 'rb'))\n",
    "exp2 = pickle.load(open('experiences2.p', 'rb'))\n",
    "exp3 = pickle.load(open('experiences3.p', 'rb'))"
   ]
  },
  {
   "cell_type": "code",
   "execution_count": 3,
   "metadata": {},
   "outputs": [],
   "source": [
    "# Combine all episodes into one big dataset dictionary\n",
    "count = 1\n",
    "dataset = {\n",
    "}\n",
    "for episode_num in exp1:\n",
    "    dataset[count] = exp1[episode_num]\n",
    "    count += 1\n",
    "for episode_num in exp2:\n",
    "    dataset[count] = exp2[episode_num]\n",
    "    count += 1\n",
    "for episode_num in exp3:\n",
    "    dataset[count] = exp3[episode_num]\n",
    "    count += 1"
   ]
  },
  {
   "cell_type": "code",
   "execution_count": 4,
   "metadata": {},
   "outputs": [],
   "source": [
    "# Add overall score, number of moves, biggest tile, and make reward equal to -2048 for last state\n",
    "def add_rewards(x, y):\n",
    "    if (type(x) == int):\n",
    "        return x + y[3]\n",
    "    else: return x[3] + y[3]\n",
    "\n",
    "for episode in dataset:\n",
    "    score = reduce(add_rewards, dataset[episode])\n",
    "    last_move = list(dataset[episode][-1])\n",
    "    last_move[3] = -2048\n",
    "    dataset[episode][-1] = tuple(last_move)\n",
    "    dataset[episode] = {\n",
    "        'experiences': dataset[episode],\n",
    "        'score': score,\n",
    "        'biggest_tile': np.max(dataset[episode][-1][2]),\n",
    "        'num_moves': len(dataset[episode])\n",
    "    }"
   ]
  },
  {
   "cell_type": "code",
   "execution_count": 5,
   "metadata": {},
   "outputs": [],
   "source": [
    "# Write dataset to file\n",
    "pickle.dump(dataset, open('dataset.p', 'wb'))"
   ]
  },
  {
   "cell_type": "code",
   "execution_count": 6,
   "metadata": {},
   "outputs": [
    {
     "data": {
      "image/png": "[encoded data removed]",
      "text/plain": [
       "<Figure size 432x288 with 1 Axes>"
      ]
     },
     "metadata": {
      "needs_background": "light"
     },
     "output_type": "display_data"
    }
   ],
   "source": [
    "# Check out distribution of biggest tiles\n",
    "biggest_tiles = [dataset[episode]['biggest_tile'] for episode in dataset]\n",
    "bins = [2**x for x in range(1,11)]\n",
    "plt.hist(biggest_tiles, bins=bins, rwidth=.8)\n",
    "plt.xticks(bins)\n",
    "plt.xscale('log', basex=2)"
   ]
  }
 ],
 "metadata": {
  "kernelspec": {
   "display_name": "Python 3",
   "language": "python",
   "name": "python3"
  },
  "language_info": {
   "codemirror_mode": {
    "name": "ipython",
    "version": 3
   },
   "file_extension": ".py",
   "mimetype": "text/x-python",
   "name": "python",
   "nbconvert_exporter": "python",
   "pygments_lexer": "ipython3",
   "version": "3.8.1"
  }
 },
 "nbformat": 4,
 "nbformat_minor": 4
}
