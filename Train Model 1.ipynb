{
 "cells": [
  {
   "cell_type": "code",
   "execution_count": 1,
   "metadata": {},
   "outputs": [],
   "source": [
    "import pickle\n",
    "import torch\n",
    "import torch.nn as nn\n",
    "import numpy as np\n",
    "from collections import namedtuple\n",
    "import matplotlib\n",
    "import matplotlib.pyplot as plt\n",
    "import torch.nn.functional as F"
   ]
  },
  {
   "cell_type": "code",
   "execution_count": 2,
   "metadata": {},
   "outputs": [],
   "source": [
    "# set up matplotlib\n",
    "is_ipython = 'inline' in matplotlib.get_backend()\n",
    "if is_ipython:\n",
    "    from IPython import display\n",
    "\n",
    "plt.ion()\n",
    "\n",
    "# initialize numpy random seed\n",
    "np.random.seed(57)\n",
    "random_gen = np.random.default_rng()"
   ]
  },
  {
   "cell_type": "code",
   "execution_count": 3,
   "metadata": {},
   "outputs": [],
   "source": [
    "# Set up transition and ReplayMemory classes\n",
    "Transition = namedtuple('Transition',\n",
    "                        ('state', 'action', 'next_state', 'reward'))\n",
    "\n",
    "\n",
    "class ReplayMemory(object):\n",
    "    def __init__(self, capacity):\n",
    "        self.capacity = capacity\n",
    "        self.memory = []\n",
    "        self.position = 0\n",
    "\n",
    "    def push(self, *args):\n",
    "        \"\"\"Saves a transition.\"\"\"\n",
    "        if len(self.memory) < self.capacity:\n",
    "            self.memory.append(None)\n",
    "        self.memory[self.position] = Transition(*args)\n",
    "        self.position = (self.position + 1) % self.capacity\n",
    "\n",
    "    def sample(self, batch_size):\n",
    "        # Gets a minibatch of tuples\n",
    "        return random_gen.choice(self.memory, batch_size)\n",
    "\n",
    "    def __len__(self):\n",
    "        return len(self.memory)"
   ]
  },
  {
   "cell_type": "code",
   "execution_count": 4,
   "metadata": {},
   "outputs": [
    {
     "name": "stdout",
     "output_type": "stream",
     "text": [
      "Dataset has 60381 experiences\n"
     ]
    }
   ],
   "source": [
    "# Load dataset and shuffle\n",
    "raw_data = pickle.load(open('dataset.p', 'rb'))\n",
    "\n",
    "dataset = []\n",
    "for episode in raw_data:\n",
    "    for exp in raw_data[episode]['experiences']:\n",
    "        dataset.append(exp)\n",
    "\n",
    "random_gen.shuffle(dataset)\n",
    "print('Dataset has {} experiences'.format(len(dataset)))"
   ]
  },
  {
   "cell_type": "code",
   "execution_count": 5,
   "metadata": {},
   "outputs": [
    {
     "name": "stdout",
     "output_type": "stream",
     "text": [
      "[[array([[ 0.,  0., 16.,  4.],\n",
      "       [ 0.,  0.,  8.,  4.],\n",
      "       [ 0.,  0.,  0.,  0.],\n",
      "       [ 0.,  2.,  0.,  2.]])\n",
      "  'Down'\n",
      "  array([[ 0.,  0.,  0.,  0.],\n",
      "       [ 0.,  2.,  0.,  0.],\n",
      "       [ 0.,  0., 16.,  8.],\n",
      "       [ 0.,  2.,  8.,  2.]])\n",
      "  8]\n",
      " [array([[  2.,   4.,  16.,   2.],\n",
      "       [ 64., 128.,   8.,   4.],\n",
      "       [  4.,  32.,  64.,   4.],\n",
      "       [  2.,  16.,   8.,  16.]])\n",
      "  'Down'\n",
      "  array([[  2.,   4.,  16.,   2.],\n",
      "       [ 64., 128.,   8.,   2.],\n",
      "       [  4.,  32.,  64.,   8.],\n",
      "       [  2.,  16.,   8.,  16.]])\n",
      "  8]]\n"
     ]
    }
   ],
   "source": [
    "# Push entire dataset into ReplayMemory\n",
    "memory = ReplayMemory(len(dataset))\n",
    "\n",
    "for exp in dataset:\n",
    "    state, action, nextstate, reward = exp\n",
    "    memory.push(state, action, nextstate, reward)\n",
    "\n",
    "# Test sample method\n",
    "print(memory.sample(2))"
   ]
  },
  {
   "cell_type": "code",
   "execution_count": 6,
   "metadata": {},
   "outputs": [],
   "source": [
    "# Define network\n",
    "\n",
    "class DQN(nn.Module):\n",
    "    def __init__(self, h, w, outputs):\n",
    "        super(DQN, self).__init__()\n",
    "        self.conv1 = nn.Conv2d(1, 8, kernel_size=4, padding=1, stride=1)\n",
    "        self.bn1 = nn.BatchNorm2d(8)\n",
    "        self.conv2 = nn.Conv2d(8, 16, kernel_size=2, padding=1, stride=1)\n",
    "        self.bn2 = nn.BatchNorm2d(16)\n",
    "\n",
    "        # Number of Linear input connections depends on output of conv2d layers\n",
    "        # and therefore the input image size, so compute it.\n",
    "        def conv2d_size_out(size, kernel_size, padding=1, stride = 1):\n",
    "            return (size  +2*padding - (kernel_size - 1) - 1) // stride  + 1\n",
    "        \n",
    "        convw = conv2d_size_out(conv2d_size_out(w, 4), 2)\n",
    "        convh = conv2d_size_out(conv2d_size_out(h, 4), 2)\n",
    "        linear_input_size = convw * convh * 16\n",
    "        print(convw)\n",
    "        self.head = nn.Linear(linear_input_size, outputs)\n",
    "\n",
    "    # Called with either one element to determine next action, or a batch\n",
    "    # during optimization. Returns tensor([[left0exp,right0exp]...]).\n",
    "    def forward(self, x):\n",
    "        x = F.relu(self.bn1(self.conv1(x)))\n",
    "        x = F.relu(self.bn2(self.conv2(x)))\n",
    "        return self.head(x.view(x.size(0), -1))"
   ]
  },
  {
   "cell_type": "code",
   "execution_count": 8,
   "metadata": {},
   "outputs": [],
   "source": [
    "'''\n",
    "    Takes a state or batch of states and converts\n",
    "    them into a pytorch tensor format. Shapes should\n",
    "    be (batch_size x 1 x 4 x 4) or (1 x 1 x 4 x 4)\n",
    "'''\n",
    "def process_state(state):\n",
    "    state = torch.Tensor(state)\n",
    "    if (state.shape == torch.Size([4,4])):\n",
    "        desired_shape = (1, 1, *state.shape)\n",
    "        state = state.view(*desired_shape)\n",
    "    else:\n",
    "        desired_shape = (state.shape[0], 1, state.shape[1], state.shape[2])\n",
    "        state = state.view(*desired_shape)\n",
    "    return state"
   ]
  },
  {
   "cell_type": "code",
   "execution_count": 7,
   "metadata": {},
   "outputs": [
    {
     "name": "stdout",
     "output_type": "stream",
     "text": [
      "4\n",
      "tensor([[-0.2626,  0.4970, -0.7538, -0.3850]], grad_fn=<AddmmBackward>)\n"
     ]
    }
   ],
   "source": [
    "network = DQN(4, 4, 4)\n",
    "batch = memory.sample(1)\n",
    "results = network.forward(process_state(batch[0][0]))\n",
    "print(results)"
   ]
  },
  {
   "cell_type": "code",
   "execution_count": null,
   "metadata": {},
   "outputs": [],
   "source": []
  },
  {
   "cell_type": "code",
   "execution_count": null,
   "metadata": {},
   "outputs": [],
   "source": [
    "'''\n",
    "Initialize target network and policy network parameters\n",
    "Training Loop:\n",
    "for num_train_iterations\n",
    "    for k epochs:\n",
    "        sample random minibatch of experiences\n",
    "        forward pass using policy network\n",
    "        calculate loss and backward pass\n",
    "        update policy network parameters\n",
    "    update target network\n",
    "'''"
   ]
  },
  {
   "cell_type": "code",
   "execution_count": null,
   "metadata": {},
   "outputs": [],
   "source": [
    "state = dataset[1]['experiences'][0][0]\n",
    "res = process_state(state)\n",
    "print(res.shape)\n",
    "print(res)"
   ]
  },
  {
   "cell_type": "code",
   "execution_count": null,
   "metadata": {},
   "outputs": [],
   "source": [
    "batch_states = np.array([exp[0] for exp in dataset[1]['experiences'][0:5]])\n",
    "print(batch_states.shape)"
   ]
  },
  {
   "cell_type": "code",
   "execution_count": null,
   "metadata": {},
   "outputs": [],
   "source": [
    "res_states = process_state(batch_states)\n",
    "print(res_states.shape)"
   ]
  },
  {
   "cell_type": "code",
   "execution_count": null,
   "metadata": {},
   "outputs": [],
   "source": [
    "print(res_states)"
   ]
  }
 ],
 "metadata": {
  "kernelspec": {
   "display_name": "Python 3",
   "language": "python",
   "name": "python3"
  },
  "language_info": {
   "codemirror_mode": {
    "name": "ipython",
    "version": 3
   },
   "file_extension": ".py",
   "mimetype": "text/x-python",
   "name": "python",
   "nbconvert_exporter": "python",
   "pygments_lexer": "ipython3",
   "version": "3.8.1"
  }
 },
 "nbformat": 4,
 "nbformat_minor": 4
}
